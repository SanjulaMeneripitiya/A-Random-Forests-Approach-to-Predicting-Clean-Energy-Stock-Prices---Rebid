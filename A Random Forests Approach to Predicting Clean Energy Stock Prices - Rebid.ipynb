{
 "cells": [
  {
   "cell_type": "code",
   "execution_count": 10,
   "metadata": {},
   "outputs": [],
   "source": [
    "import yfinance as yf\n",
    "import pandas as pd"
   ]
  },
  {
   "cell_type": "code",
   "execution_count": 14,
   "metadata": {},
   "outputs": [
    {
     "name": "stdout",
     "output_type": "stream",
     "text": [
      "[*********************100%***********************]  1 of 1 completed\n"
     ]
    }
   ],
   "source": [
    "data = yf.download(\"PBW\", start=\"2010-01-01\", end=\"2022-03-19\")"
   ]
  },
  {
   "cell_type": "code",
   "execution_count": 15,
   "metadata": {},
   "outputs": [],
   "source": [
    "df = pd.DataFrame(data)"
   ]
  },
  {
   "cell_type": "code",
   "execution_count": 16,
   "metadata": {},
   "outputs": [
    {
     "data": {
      "text/html": [
       "<div>\n",
       "<style scoped>\n",
       "    .dataframe tbody tr th:only-of-type {\n",
       "        vertical-align: middle;\n",
       "    }\n",
       "\n",
       "    .dataframe tbody tr th {\n",
       "        vertical-align: top;\n",
       "    }\n",
       "\n",
       "    .dataframe thead th {\n",
       "        text-align: right;\n",
       "    }\n",
       "</style>\n",
       "<table border=\"1\" class=\"dataframe\">\n",
       "  <thead>\n",
       "    <tr style=\"text-align: right;\">\n",
       "      <th></th>\n",
       "      <th>Open</th>\n",
       "      <th>High</th>\n",
       "      <th>Low</th>\n",
       "      <th>Close</th>\n",
       "      <th>Adj Close</th>\n",
       "      <th>Volume</th>\n",
       "    </tr>\n",
       "    <tr>\n",
       "      <th>Date</th>\n",
       "      <th></th>\n",
       "      <th></th>\n",
       "      <th></th>\n",
       "      <th></th>\n",
       "      <th></th>\n",
       "      <th></th>\n",
       "    </tr>\n",
       "  </thead>\n",
       "  <tbody>\n",
       "    <tr>\n",
       "      <th>2010-01-04</th>\n",
       "      <td>55.450001</td>\n",
       "      <td>56.750000</td>\n",
       "      <td>55.450001</td>\n",
       "      <td>56.750000</td>\n",
       "      <td>43.996807</td>\n",
       "      <td>107960</td>\n",
       "    </tr>\n",
       "    <tr>\n",
       "      <th>2010-01-05</th>\n",
       "      <td>56.849998</td>\n",
       "      <td>57.750000</td>\n",
       "      <td>56.450001</td>\n",
       "      <td>57.400002</td>\n",
       "      <td>44.500721</td>\n",
       "      <td>101740</td>\n",
       "    </tr>\n",
       "    <tr>\n",
       "      <th>2010-01-06</th>\n",
       "      <td>57.500000</td>\n",
       "      <td>58.549999</td>\n",
       "      <td>57.450001</td>\n",
       "      <td>58.250000</td>\n",
       "      <td>45.159714</td>\n",
       "      <td>181180</td>\n",
       "    </tr>\n",
       "    <tr>\n",
       "      <th>2010-01-07</th>\n",
       "      <td>58.250000</td>\n",
       "      <td>58.400002</td>\n",
       "      <td>57.700001</td>\n",
       "      <td>58.099998</td>\n",
       "      <td>45.043419</td>\n",
       "      <td>97420</td>\n",
       "    </tr>\n",
       "    <tr>\n",
       "      <th>2010-01-08</th>\n",
       "      <td>58.000000</td>\n",
       "      <td>58.799999</td>\n",
       "      <td>58.000000</td>\n",
       "      <td>58.799999</td>\n",
       "      <td>45.586124</td>\n",
       "      <td>75240</td>\n",
       "    </tr>\n",
       "  </tbody>\n",
       "</table>\n",
       "</div>"
      ],
      "text/plain": [
       "                 Open       High        Low      Close  Adj Close  Volume\n",
       "Date                                                                     \n",
       "2010-01-04  55.450001  56.750000  55.450001  56.750000  43.996807  107960\n",
       "2010-01-05  56.849998  57.750000  56.450001  57.400002  44.500721  101740\n",
       "2010-01-06  57.500000  58.549999  57.450001  58.250000  45.159714  181180\n",
       "2010-01-07  58.250000  58.400002  57.700001  58.099998  45.043419   97420\n",
       "2010-01-08  58.000000  58.799999  58.000000  58.799999  45.586124   75240"
      ]
     },
     "execution_count": 16,
     "metadata": {},
     "output_type": "execute_result"
    }
   ],
   "source": [
    "df.head()"
   ]
  }
 ],
 "metadata": {
  "hide_input": false,
  "kernelspec": {
   "display_name": "Python 3",
   "language": "python",
   "name": "python3"
  },
  "language_info": {
   "codemirror_mode": {
    "name": "ipython",
    "version": 3
   },
   "file_extension": ".py",
   "mimetype": "text/x-python",
   "name": "python",
   "nbconvert_exporter": "python",
   "pygments_lexer": "ipython3",
   "version": "3.7.6"
  }
 },
 "nbformat": 4,
 "nbformat_minor": 4
}
