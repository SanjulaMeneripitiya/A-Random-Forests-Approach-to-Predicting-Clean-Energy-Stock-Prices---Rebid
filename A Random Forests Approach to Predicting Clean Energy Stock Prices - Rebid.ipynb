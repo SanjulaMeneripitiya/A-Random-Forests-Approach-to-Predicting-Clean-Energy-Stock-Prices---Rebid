{
 "cells": [
  {
   "cell_type": "code",
   "execution_count": 1,
   "metadata": {},
   "outputs": [],
   "source": [
    "import yfinance as yf\n",
    "import pandas as pd"
   ]
  },
  {
   "cell_type": "code",
   "execution_count": 2,
   "metadata": {},
   "outputs": [
    {
     "name": "stdout",
     "output_type": "stream",
     "text": [
      "[*********************100%***********************]  1 of 1 completed\n"
     ]
    }
   ],
   "source": [
    "data = yf.download(\"PBW\", start=\"2010-01-01\", end=\"2022-03-19\")"
   ]
  },
  {
   "cell_type": "code",
   "execution_count": 3,
   "metadata": {},
   "outputs": [],
   "source": [
    "df = pd.DataFrame(data)"
   ]
  },
  {
   "cell_type": "code",
   "execution_count": 4,
   "metadata": {
    "scrolled": true
   },
   "outputs": [
    {
     "data": {
      "text/html": [
       "<div>\n",
       "<style scoped>\n",
       "    .dataframe tbody tr th:only-of-type {\n",
       "        vertical-align: middle;\n",
       "    }\n",
       "\n",
       "    .dataframe tbody tr th {\n",
       "        vertical-align: top;\n",
       "    }\n",
       "\n",
       "    .dataframe thead th {\n",
       "        text-align: right;\n",
       "    }\n",
       "</style>\n",
       "<table border=\"1\" class=\"dataframe\">\n",
       "  <thead>\n",
       "    <tr style=\"text-align: right;\">\n",
       "      <th></th>\n",
       "      <th>Open</th>\n",
       "      <th>High</th>\n",
       "      <th>Low</th>\n",
       "      <th>Close</th>\n",
       "      <th>Adj Close</th>\n",
       "      <th>Volume</th>\n",
       "    </tr>\n",
       "    <tr>\n",
       "      <th>Date</th>\n",
       "      <th></th>\n",
       "      <th></th>\n",
       "      <th></th>\n",
       "      <th></th>\n",
       "      <th></th>\n",
       "      <th></th>\n",
       "    </tr>\n",
       "  </thead>\n",
       "  <tbody>\n",
       "    <tr>\n",
       "      <th>2010-01-04</th>\n",
       "      <td>55.450001</td>\n",
       "      <td>56.750000</td>\n",
       "      <td>55.450001</td>\n",
       "      <td>56.750000</td>\n",
       "      <td>43.456406</td>\n",
       "      <td>107960</td>\n",
       "    </tr>\n",
       "    <tr>\n",
       "      <th>2010-01-05</th>\n",
       "      <td>56.849998</td>\n",
       "      <td>57.750000</td>\n",
       "      <td>56.450001</td>\n",
       "      <td>57.400002</td>\n",
       "      <td>43.954144</td>\n",
       "      <td>101740</td>\n",
       "    </tr>\n",
       "    <tr>\n",
       "      <th>2010-01-06</th>\n",
       "      <td>57.500000</td>\n",
       "      <td>58.549999</td>\n",
       "      <td>57.450001</td>\n",
       "      <td>58.250000</td>\n",
       "      <td>44.605045</td>\n",
       "      <td>181180</td>\n",
       "    </tr>\n",
       "    <tr>\n",
       "      <th>2010-01-07</th>\n",
       "      <td>58.250000</td>\n",
       "      <td>58.400002</td>\n",
       "      <td>57.700001</td>\n",
       "      <td>58.099998</td>\n",
       "      <td>44.490166</td>\n",
       "      <td>97420</td>\n",
       "    </tr>\n",
       "    <tr>\n",
       "      <th>2010-01-08</th>\n",
       "      <td>58.000000</td>\n",
       "      <td>58.799999</td>\n",
       "      <td>58.000000</td>\n",
       "      <td>58.799999</td>\n",
       "      <td>45.026199</td>\n",
       "      <td>75240</td>\n",
       "    </tr>\n",
       "  </tbody>\n",
       "</table>\n",
       "</div>"
      ],
      "text/plain": [
       "                 Open       High        Low      Close  Adj Close  Volume\n",
       "Date                                                                     \n",
       "2010-01-04  55.450001  56.750000  55.450001  56.750000  43.456406  107960\n",
       "2010-01-05  56.849998  57.750000  56.450001  57.400002  43.954144  101740\n",
       "2010-01-06  57.500000  58.549999  57.450001  58.250000  44.605045  181180\n",
       "2010-01-07  58.250000  58.400002  57.700001  58.099998  44.490166   97420\n",
       "2010-01-08  58.000000  58.799999  58.000000  58.799999  45.026199   75240"
      ]
     },
     "execution_count": 4,
     "metadata": {},
     "output_type": "execute_result"
    }
   ],
   "source": [
    "df.head()"
   ]
  },
  {
   "cell_type": "markdown",
   "metadata": {},
   "source": [
    "### Relative Strength Index (RSI)"
   ]
  },
  {
   "cell_type": "code",
   "execution_count": 5,
   "metadata": {},
   "outputs": [],
   "source": [
    "delta = df['Close'].diff()\n",
    "up = delta.clip(lower=0)\n",
    "down = -1*delta.clip(upper=0)\n",
    "ema_up = up.ewm(com=13, adjust=False).mean()\n",
    "ema_down = down.ewm(com=13, adjust=False).mean()\n",
    "rs = ema_up/ema_down\n",
    "df['RSI'] = 100 - (100/(1 + rs))"
   ]
  },
  {
   "cell_type": "code",
   "execution_count": 6,
   "metadata": {},
   "outputs": [
    {
     "data": {
      "text/html": [
       "<div>\n",
       "<style scoped>\n",
       "    .dataframe tbody tr th:only-of-type {\n",
       "        vertical-align: middle;\n",
       "    }\n",
       "\n",
       "    .dataframe tbody tr th {\n",
       "        vertical-align: top;\n",
       "    }\n",
       "\n",
       "    .dataframe thead th {\n",
       "        text-align: right;\n",
       "    }\n",
       "</style>\n",
       "<table border=\"1\" class=\"dataframe\">\n",
       "  <thead>\n",
       "    <tr style=\"text-align: right;\">\n",
       "      <th></th>\n",
       "      <th>Open</th>\n",
       "      <th>High</th>\n",
       "      <th>Low</th>\n",
       "      <th>Close</th>\n",
       "      <th>Adj Close</th>\n",
       "      <th>Volume</th>\n",
       "      <th>RSI</th>\n",
       "    </tr>\n",
       "    <tr>\n",
       "      <th>Date</th>\n",
       "      <th></th>\n",
       "      <th></th>\n",
       "      <th></th>\n",
       "      <th></th>\n",
       "      <th></th>\n",
       "      <th></th>\n",
       "      <th></th>\n",
       "    </tr>\n",
       "  </thead>\n",
       "  <tbody>\n",
       "    <tr>\n",
       "      <th>2010-01-04</th>\n",
       "      <td>55.450001</td>\n",
       "      <td>56.750000</td>\n",
       "      <td>55.450001</td>\n",
       "      <td>56.750000</td>\n",
       "      <td>43.456406</td>\n",
       "      <td>107960</td>\n",
       "      <td>NaN</td>\n",
       "    </tr>\n",
       "    <tr>\n",
       "      <th>2010-01-05</th>\n",
       "      <td>56.849998</td>\n",
       "      <td>57.750000</td>\n",
       "      <td>56.450001</td>\n",
       "      <td>57.400002</td>\n",
       "      <td>43.954144</td>\n",
       "      <td>101740</td>\n",
       "      <td>100.000000</td>\n",
       "    </tr>\n",
       "    <tr>\n",
       "      <th>2010-01-06</th>\n",
       "      <td>57.500000</td>\n",
       "      <td>58.549999</td>\n",
       "      <td>57.450001</td>\n",
       "      <td>58.250000</td>\n",
       "      <td>44.605045</td>\n",
       "      <td>181180</td>\n",
       "      <td>100.000000</td>\n",
       "    </tr>\n",
       "    <tr>\n",
       "      <th>2010-01-07</th>\n",
       "      <td>58.250000</td>\n",
       "      <td>58.400002</td>\n",
       "      <td>57.700001</td>\n",
       "      <td>58.099998</td>\n",
       "      <td>44.490166</td>\n",
       "      <td>97420</td>\n",
       "      <td>98.292669</td>\n",
       "    </tr>\n",
       "    <tr>\n",
       "      <th>2010-01-08</th>\n",
       "      <td>58.000000</td>\n",
       "      <td>58.799999</td>\n",
       "      <td>58.000000</td>\n",
       "      <td>58.799999</td>\n",
       "      <td>45.026199</td>\n",
       "      <td>75240</td>\n",
       "      <td>98.427588</td>\n",
       "    </tr>\n",
       "  </tbody>\n",
       "</table>\n",
       "</div>"
      ],
      "text/plain": [
       "                 Open       High        Low      Close  Adj Close  Volume  \\\n",
       "Date                                                                        \n",
       "2010-01-04  55.450001  56.750000  55.450001  56.750000  43.456406  107960   \n",
       "2010-01-05  56.849998  57.750000  56.450001  57.400002  43.954144  101740   \n",
       "2010-01-06  57.500000  58.549999  57.450001  58.250000  44.605045  181180   \n",
       "2010-01-07  58.250000  58.400002  57.700001  58.099998  44.490166   97420   \n",
       "2010-01-08  58.000000  58.799999  58.000000  58.799999  45.026199   75240   \n",
       "\n",
       "                   RSI  \n",
       "Date                    \n",
       "2010-01-04         NaN  \n",
       "2010-01-05  100.000000  \n",
       "2010-01-06  100.000000  \n",
       "2010-01-07   98.292669  \n",
       "2010-01-08   98.427588  "
      ]
     },
     "execution_count": 6,
     "metadata": {},
     "output_type": "execute_result"
    }
   ],
   "source": [
    "df.head()"
   ]
  }
 ],
 "metadata": {
  "hide_input": false,
  "kernelspec": {
   "display_name": "Python 3",
   "language": "python",
   "name": "python3"
  },
  "language_info": {
   "codemirror_mode": {
    "name": "ipython",
    "version": 3
   },
   "file_extension": ".py",
   "mimetype": "text/x-python",
   "name": "python",
   "nbconvert_exporter": "python",
   "pygments_lexer": "ipython3",
   "version": "3.7.6"
  }
 },
 "nbformat": 4,
 "nbformat_minor": 4
}
